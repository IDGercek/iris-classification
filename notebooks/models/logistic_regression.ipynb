{
 "cells": [
  {
   "cell_type": "markdown",
   "id": "5c973c09",
   "metadata": {},
   "source": [
    "# Introduction"
   ]
  },
  {
   "cell_type": "markdown",
   "id": "f53cdd9a",
   "metadata": {},
   "source": [
    "A classical logistic regression model.\n",
    "- Main library: NumPy"
   ]
  },
  {
   "cell_type": "markdown",
   "id": "2f527f77",
   "metadata": {},
   "source": [
    "# Setup"
   ]
  },
  {
   "cell_type": "code",
   "execution_count": 748,
   "id": "691fdb4c",
   "metadata": {},
   "outputs": [],
   "source": [
    "import numpy as np\n",
    "import pandas as pd\n",
    "import matplotlib.pyplot as plt\n",
    "\n",
    "from sklearn.model_selection import train_test_split"
   ]
  },
  {
   "cell_type": "code",
   "execution_count": 749,
   "id": "5e5c7428",
   "metadata": {},
   "outputs": [
    {
     "data": {
      "text/html": [
       "<div>\n",
       "<style scoped>\n",
       "    .dataframe tbody tr th:only-of-type {\n",
       "        vertical-align: middle;\n",
       "    }\n",
       "\n",
       "    .dataframe tbody tr th {\n",
       "        vertical-align: top;\n",
       "    }\n",
       "\n",
       "    .dataframe thead th {\n",
       "        text-align: right;\n",
       "    }\n",
       "</style>\n",
       "<table border=\"1\" class=\"dataframe\">\n",
       "  <thead>\n",
       "    <tr style=\"text-align: right;\">\n",
       "      <th></th>\n",
       "      <th>Id</th>\n",
       "      <th>SepalLengthCm</th>\n",
       "      <th>SepalWidthCm</th>\n",
       "      <th>PetalLengthCm</th>\n",
       "      <th>PetalWidthCm</th>\n",
       "      <th>Species</th>\n",
       "    </tr>\n",
       "  </thead>\n",
       "  <tbody>\n",
       "    <tr>\n",
       "      <th>0</th>\n",
       "      <td>1</td>\n",
       "      <td>5.1</td>\n",
       "      <td>3.5</td>\n",
       "      <td>1.4</td>\n",
       "      <td>0.2</td>\n",
       "      <td>Iris-setosa</td>\n",
       "    </tr>\n",
       "    <tr>\n",
       "      <th>1</th>\n",
       "      <td>2</td>\n",
       "      <td>4.9</td>\n",
       "      <td>3.0</td>\n",
       "      <td>1.4</td>\n",
       "      <td>0.2</td>\n",
       "      <td>Iris-setosa</td>\n",
       "    </tr>\n",
       "    <tr>\n",
       "      <th>2</th>\n",
       "      <td>3</td>\n",
       "      <td>4.7</td>\n",
       "      <td>3.2</td>\n",
       "      <td>1.3</td>\n",
       "      <td>0.2</td>\n",
       "      <td>Iris-setosa</td>\n",
       "    </tr>\n",
       "    <tr>\n",
       "      <th>3</th>\n",
       "      <td>4</td>\n",
       "      <td>4.6</td>\n",
       "      <td>3.1</td>\n",
       "      <td>1.5</td>\n",
       "      <td>0.2</td>\n",
       "      <td>Iris-setosa</td>\n",
       "    </tr>\n",
       "    <tr>\n",
       "      <th>4</th>\n",
       "      <td>5</td>\n",
       "      <td>5.0</td>\n",
       "      <td>3.6</td>\n",
       "      <td>1.4</td>\n",
       "      <td>0.2</td>\n",
       "      <td>Iris-setosa</td>\n",
       "    </tr>\n",
       "  </tbody>\n",
       "</table>\n",
       "</div>"
      ],
      "text/plain": [
       "   Id  SepalLengthCm  SepalWidthCm  PetalLengthCm  PetalWidthCm      Species\n",
       "0   1            5.1           3.5            1.4           0.2  Iris-setosa\n",
       "1   2            4.9           3.0            1.4           0.2  Iris-setosa\n",
       "2   3            4.7           3.2            1.3           0.2  Iris-setosa\n",
       "3   4            4.6           3.1            1.5           0.2  Iris-setosa\n",
       "4   5            5.0           3.6            1.4           0.2  Iris-setosa"
      ]
     },
     "execution_count": 749,
     "metadata": {},
     "output_type": "execute_result"
    }
   ],
   "source": [
    "# Load data\n",
    "\n",
    "df = pd.read_csv(\"../../data/Iris.csv\")\n",
    "df.head()"
   ]
  },
  {
   "cell_type": "code",
   "execution_count": 750,
   "id": "4beb9b61",
   "metadata": {},
   "outputs": [],
   "source": [
    "# Drop Id\n",
    "\n",
    "df = df.drop(columns=[\"Id\"])"
   ]
  },
  {
   "cell_type": "code",
   "execution_count": 751,
   "id": "87737f9a",
   "metadata": {},
   "outputs": [
    {
     "data": {
      "text/plain": [
       "(array([[5.1, 3.5, 1.4, 0.2],\n",
       "        [4.9, 3. , 1.4, 0.2],\n",
       "        [4.7, 3.2, 1.3, 0.2],\n",
       "        [4.6, 3.1, 1.5, 0.2],\n",
       "        [5. , 3.6, 1.4, 0.2]]),\n",
       " array([[1, 0, 0],\n",
       "        [1, 0, 0],\n",
       "        [1, 0, 0],\n",
       "        [1, 0, 0],\n",
       "        [1, 0, 0]]),\n",
       " array(['Iris-setosa', 'Iris-versicolor', 'Iris-virginica'], dtype=object))"
      ]
     },
     "execution_count": 751,
     "metadata": {},
     "output_type": "execute_result"
    }
   ],
   "source": [
    "# Seperate features and labels\n",
    "\n",
    "features = df.drop(columns=[\"Species\"]).values\n",
    "labels = df[\"Species\"].unique()\n",
    "labels_onehot = pd.get_dummies(df[\"Species\"]).astype(int).values\n",
    "\n",
    "features[:5], labels_onehot[:5], labels"
   ]
  },
  {
   "cell_type": "code",
   "execution_count": 752,
   "id": "3fb9486f",
   "metadata": {},
   "outputs": [],
   "source": [
    "# Train and test splits\n",
    "\n",
    "X_train, X_val, y_train, y_val = train_test_split(features, labels_onehot, test_size=0.2)"
   ]
  },
  {
   "cell_type": "code",
   "execution_count": 753,
   "id": "6b918c5d",
   "metadata": {},
   "outputs": [
    {
     "name": "stdout",
     "output_type": "stream",
     "text": [
      "Training dataset size: 120\n",
      "Validation dataset size: 30\n"
     ]
    }
   ],
   "source": [
    "print(f'Training dataset size: {len(X_train)}')\n",
    "print(f'Validation dataset size: {len(X_val)}')"
   ]
  },
  {
   "cell_type": "markdown",
   "id": "918d0090",
   "metadata": {},
   "source": [
    "# Model"
   ]
  },
  {
   "cell_type": "code",
   "execution_count": 754,
   "id": "349df433",
   "metadata": {},
   "outputs": [],
   "source": [
    "# Model\n",
    "\n",
    "def model(X, weights, bias):\n",
    "    return np.dot(X, weights) + bias"
   ]
  },
  {
   "cell_type": "code",
   "execution_count": 755,
   "id": "16161909",
   "metadata": {},
   "outputs": [],
   "source": [
    "# Softmax function\n",
    "\n",
    "def softmax(z):\n",
    "    exps = np.exp(z - np.max(z, axis=1, keepdims=True)) # subtract max element for numerical stability\n",
    "    return exps / np.sum(exps, axis=1, keepdims=True)"
   ]
  },
  {
   "cell_type": "code",
   "execution_count": 756,
   "id": "ddb450f2",
   "metadata": {},
   "outputs": [],
   "source": [
    "# Accuracy function\n",
    "\n",
    "def accuracy_fn(y, y_pred):\n",
    "    return np.sum(np.argmax(y, axis=1) == np.argmax(y_pred, axis=1)) / len(y)"
   ]
  },
  {
   "cell_type": "code",
   "execution_count": 757,
   "id": "4001e449",
   "metadata": {},
   "outputs": [],
   "source": [
    "# Loss function (Categorical Cross-Entropy)\n",
    "\n",
    "def cce(y, y_pred_probs):\n",
    "    m = y.shape[0] # batch size\n",
    "    return -np.sum(y * np.log(y_pred_probs)) / m"
   ]
  },
  {
   "cell_type": "code",
   "execution_count": 758,
   "id": "1f158435",
   "metadata": {},
   "outputs": [],
   "source": [
    "def compute_gradients(X, y, y_pred_probs):\n",
    "    m = len(y)\n",
    "    error = y_pred_probs - y \n",
    "    w_grad = np.dot(X.T, error) / m\n",
    "    b_grad = np.sum(error, axis=0) / m\n",
    "    return w_grad, b_grad"
   ]
  },
  {
   "cell_type": "code",
   "execution_count": 759,
   "id": "3ca24471",
   "metadata": {},
   "outputs": [],
   "source": [
    "def gradient_descent(X, y, y_pred_probs, w_init, b_init, learning_rate):\n",
    "    w = w_init\n",
    "    b = b_init\n",
    "\n",
    "    w_grad, b_grad = compute_gradients(X, y, y_pred_probs)\n",
    "\n",
    "    w -= learning_rate * w_grad\n",
    "    b -= learning_rate * b_grad\n",
    "\n",
    "    return w, b"
   ]
  },
  {
   "cell_type": "code",
   "execution_count": 760,
   "id": "0346150f",
   "metadata": {},
   "outputs": [],
   "source": [
    "def train_step(X, y, w, b, learning_rate):\n",
    "    y_logits = model(X, w, b)\n",
    "    y_pred_probs = softmax(y_logits)\n",
    "\n",
    "    w, b, = gradient_descent(X, y, y_pred_probs, w, b, learning_rate)\n",
    "    loss = cce(y, y_pred_probs)\n",
    "    acc = accuracy_fn(y, y_pred_probs)\n",
    "\n",
    "    return w, b, loss, acc"
   ]
  },
  {
   "cell_type": "code",
   "execution_count": 761,
   "id": "0f003eec",
   "metadata": {},
   "outputs": [],
   "source": [
    "def test_step(X, y, w, b):\n",
    "    y_logits = model(X, w, b)\n",
    "    y_pred_probs = softmax(y_logits)\n",
    "    loss = cce(y, y_pred_probs)\n",
    "    acc = accuracy_fn(y, y_pred_probs)\n",
    "    return loss, acc"
   ]
  },
  {
   "cell_type": "code",
   "execution_count": 762,
   "id": "2845430a",
   "metadata": {},
   "outputs": [],
   "source": [
    "def train_model(X_train, y_train, X_test, y_test, w, b, learning_rate, epochs, metrics):\n",
    "    for epoch in range(epochs):\n",
    "        w, b, train_loss, train_acc = train_step(X_train, y_train, w, b, learning_rate)\n",
    "        test_loss, test_acc = test_step(X_test, y_test, w, b)\n",
    "\n",
    "        metrics[\"train_losses\"].append(train_loss)\n",
    "        metrics[\"train_accuracies\"].append(train_acc)\n",
    "        metrics[\"test_losses\"].append(test_loss)\n",
    "        metrics[\"test_accuracies\"].append(test_acc)\n",
    "\n",
    "        if epoch % (epochs/10) == 0:\n",
    "            print(f\"Epoch: {epoch} | Train Loss: {train_loss:.4f} | Train Acc: {train_acc*100:.2f}% | Test Loss: {test_loss:.4f} | Test Acc: {test_acc*100:.2f}%\")"
   ]
  },
  {
   "cell_type": "code",
   "execution_count": 763,
   "id": "44373ae3",
   "metadata": {},
   "outputs": [
    {
     "data": {
      "text/plain": [
       "{'model': 'Logistic Regression',\n",
       " 'train_losses': [],\n",
       " 'train_accuracies': [],\n",
       " 'test_losses': [],\n",
       " 'test_accuracies': []}"
      ]
     },
     "execution_count": 763,
     "metadata": {},
     "output_type": "execute_result"
    }
   ],
   "source": [
    "# Initialize metrics\n",
    "\n",
    "metrics = {}\n",
    "metrics[\"model\"] = \"Logistic Regression\"\n",
    "metrics[\"train_losses\"] = []\n",
    "metrics[\"train_accuracies\"] = []\n",
    "metrics[\"test_losses\"] = []\n",
    "metrics[\"test_accuracies\"] = []\n",
    "\n",
    "metrics"
   ]
  },
  {
   "cell_type": "code",
   "execution_count": 764,
   "id": "f5c583f9",
   "metadata": {},
   "outputs": [],
   "source": [
    "# Initialize parameters \n",
    "\n",
    "n_features = features.shape[1]\n",
    "n_classes = labels_onehot.shape[1]\n",
    "w = np.zeros((n_features, n_classes))\n",
    "b = np.zeros(n_classes)"
   ]
  },
  {
   "cell_type": "code",
   "execution_count": 765,
   "id": "c631a686",
   "metadata": {},
   "outputs": [],
   "source": [
    "# Initialize hyperparameters\n",
    "\n",
    "learning_rate = 0.01\n",
    "epochs = 10000"
   ]
  },
  {
   "cell_type": "code",
   "execution_count": 766,
   "id": "e876f272",
   "metadata": {},
   "outputs": [
    {
     "name": "stdout",
     "output_type": "stream",
     "text": [
      "Epoch: 0 | Train Loss: 1.0986 | Train Acc: 31.67% | Test Loss: 1.0919 | Test Acc: 26.67%\n",
      "Epoch: 1000 | Train Loss: 0.3611 | Train Acc: 96.67% | Test Loss: 0.3398 | Test Acc: 96.67%\n",
      "Epoch: 2000 | Train Loss: 0.2730 | Train Acc: 97.50% | Test Loss: 0.2578 | Test Acc: 96.67%\n",
      "Epoch: 3000 | Train Loss: 0.2266 | Train Acc: 98.33% | Test Loss: 0.2144 | Test Acc: 96.67%\n",
      "Epoch: 4000 | Train Loss: 0.1976 | Train Acc: 98.33% | Test Loss: 0.1869 | Test Acc: 93.33%\n",
      "Epoch: 5000 | Train Loss: 0.1778 | Train Acc: 98.33% | Test Loss: 0.1677 | Test Acc: 93.33%\n",
      "Epoch: 6000 | Train Loss: 0.1633 | Train Acc: 97.50% | Test Loss: 0.1536 | Test Acc: 93.33%\n",
      "Epoch: 7000 | Train Loss: 0.1522 | Train Acc: 97.50% | Test Loss: 0.1426 | Test Acc: 93.33%\n",
      "Epoch: 8000 | Train Loss: 0.1435 | Train Acc: 97.50% | Test Loss: 0.1338 | Test Acc: 93.33%\n",
      "Epoch: 9000 | Train Loss: 0.1363 | Train Acc: 97.50% | Test Loss: 0.1266 | Test Acc: 93.33%\n"
     ]
    }
   ],
   "source": [
    "train_model(X_train, y_train,\n",
    "            X_val, y_val,\n",
    "            w, b,\n",
    "            learning_rate,\n",
    "            epochs,\n",
    "            metrics)"
   ]
  },
  {
   "cell_type": "markdown",
   "id": "e00a549a",
   "metadata": {},
   "source": [
    "## Visualizing Metrics"
   ]
  },
  {
   "cell_type": "code",
   "execution_count": 767,
   "id": "874d906e",
   "metadata": {},
   "outputs": [],
   "source": [
    "def plot_metrics(metrics: dict):\n",
    "    x = range(0, len(metrics[\"train_losses\"]))\n",
    "\n",
    "    plt.figure(figsize=(15, 6))\n",
    "\n",
    "    plt.subplot(2, 1, 1)\n",
    "    plt.title(\"Loss\")\n",
    "    plt.plot(x, metrics[\"train_losses\"], label=\"Train Losses\")\n",
    "    plt.plot(x, metrics[\"test_losses\"], label=\"Test Losses\")\n",
    "    plt.legend()\n",
    "\n",
    "    plt.subplot(2, 1, 2)\n",
    "    plt.title(\"Accuracy\")\n",
    "    plt.plot(x, metrics[\"train_accuracies\"], label=\"Train Accuracies\")\n",
    "    plt.plot(x, metrics[\"test_accuracies\"], label=\"Test Accuracies\")\n",
    "    plt.legend()\n",
    "\n",
    "    plt.show()"
   ]
  },
  {
   "cell_type": "code",
   "execution_count": 768,
   "id": "ac12476a",
   "metadata": {},
   "outputs": [
    {
     "data": {
      "image/png": "[encoded data removed]",
      "text/plain": [
       "<Figure size 1500x600 with 2 Axes>"
      ]
     },
     "metadata": {},
     "output_type": "display_data"
    }
   ],
   "source": [
    "plot_metrics(metrics)"
   ]
  },
  {
   "cell_type": "code",
   "execution_count": 769,
   "id": "f88f6710",
   "metadata": {},
   "outputs": [
    {
     "name": "stdout",
     "output_type": "stream",
     "text": [
      "Lowest loss on test dataset: 0.120520\n",
      "Highest accuracy on test dataset: 96.6667%\n"
     ]
    }
   ],
   "source": [
    "print(f\"Lowest loss on test dataset: {min(metrics['test_losses']):.6f}\")\n",
    "print(f\"Highest accuracy on test dataset: {max(metrics['test_accuracies'])*100:.4f}%\")"
   ]
  },
  {
   "cell_type": "markdown",
   "id": "20dd5e5c",
   "metadata": {},
   "source": [
    "# Conclusion"
   ]
  },
  {
   "cell_type": "markdown",
   "id": "45020e49",
   "metadata": {},
   "source": [
    "The logistic regression model performs great on Iris classification, achieving up to 96.6% accuracy on the validation dataset."
   ]
  },
  {
   "cell_type": "markdown",
   "id": "d706302c",
   "metadata": {},
   "source": [
    "Metrics:\n",
    "- Lowest loss on test dataset: 0.120520\n",
    "- Highest accuracy on test dataset: 96.6667%"
   ]
  }
 ],
 "metadata": {
  "kernelspec": {
   "display_name": "Python 3",
   "language": "python",
   "name": "python3"
  },
  "language_info": {
   "codemirror_mode": {
    "name": "ipython",
    "version": 3
   },
   "file_extension": ".py",
   "mimetype": "text/x-python",
   "name": "python",
   "nbconvert_exporter": "python",
   "pygments_lexer": "ipython3",
   "version": "3.10.6"
  }
 },
 "nbformat": 4,
 "nbformat_minor": 5
}
