{
 "cells": [
  {
   "cell_type": "markdown",
   "id": "b4ac6f31",
   "metadata": {},
   "source": [
    "# Introduction"
   ]
  },
  {
   "cell_type": "markdown",
   "id": "3fd11f83",
   "metadata": {},
   "source": [
    "A basic implementation of the k-nearest-neighbors algorithm."
   ]
  },
  {
   "cell_type": "markdown",
   "id": "722cbe64",
   "metadata": {},
   "source": [
    "# Setup"
   ]
  },
  {
   "cell_type": "code",
   "execution_count": 15,
   "id": "3b2db8a9",
   "metadata": {},
   "outputs": [],
   "source": [
    "import numpy as np\n",
    "import pandas as pd\n",
    "import matplotlib.pyplot as plt\n",
    "\n",
    "from sklearn.model_selection import train_test_split"
   ]
  },
  {
   "cell_type": "code",
   "execution_count": 16,
   "id": "26149303",
   "metadata": {},
   "outputs": [
    {
     "data": {
      "text/html": [
       "<div>\n",
       "<style scoped>\n",
       "    .dataframe tbody tr th:only-of-type {\n",
       "        vertical-align: middle;\n",
       "    }\n",
       "\n",
       "    .dataframe tbody tr th {\n",
       "        vertical-align: top;\n",
       "    }\n",
       "\n",
       "    .dataframe thead th {\n",
       "        text-align: right;\n",
       "    }\n",
       "</style>\n",
       "<table border=\"1\" class=\"dataframe\">\n",
       "  <thead>\n",
       "    <tr style=\"text-align: right;\">\n",
       "      <th></th>\n",
       "      <th>Id</th>\n",
       "      <th>SepalLengthCm</th>\n",
       "      <th>SepalWidthCm</th>\n",
       "      <th>PetalLengthCm</th>\n",
       "      <th>PetalWidthCm</th>\n",
       "      <th>Species</th>\n",
       "    </tr>\n",
       "  </thead>\n",
       "  <tbody>\n",
       "    <tr>\n",
       "      <th>0</th>\n",
       "      <td>1</td>\n",
       "      <td>5.1</td>\n",
       "      <td>3.5</td>\n",
       "      <td>1.4</td>\n",
       "      <td>0.2</td>\n",
       "      <td>Iris-setosa</td>\n",
       "    </tr>\n",
       "    <tr>\n",
       "      <th>1</th>\n",
       "      <td>2</td>\n",
       "      <td>4.9</td>\n",
       "      <td>3.0</td>\n",
       "      <td>1.4</td>\n",
       "      <td>0.2</td>\n",
       "      <td>Iris-setosa</td>\n",
       "    </tr>\n",
       "    <tr>\n",
       "      <th>2</th>\n",
       "      <td>3</td>\n",
       "      <td>4.7</td>\n",
       "      <td>3.2</td>\n",
       "      <td>1.3</td>\n",
       "      <td>0.2</td>\n",
       "      <td>Iris-setosa</td>\n",
       "    </tr>\n",
       "    <tr>\n",
       "      <th>3</th>\n",
       "      <td>4</td>\n",
       "      <td>4.6</td>\n",
       "      <td>3.1</td>\n",
       "      <td>1.5</td>\n",
       "      <td>0.2</td>\n",
       "      <td>Iris-setosa</td>\n",
       "    </tr>\n",
       "    <tr>\n",
       "      <th>4</th>\n",
       "      <td>5</td>\n",
       "      <td>5.0</td>\n",
       "      <td>3.6</td>\n",
       "      <td>1.4</td>\n",
       "      <td>0.2</td>\n",
       "      <td>Iris-setosa</td>\n",
       "    </tr>\n",
       "  </tbody>\n",
       "</table>\n",
       "</div>"
      ],
      "text/plain": [
       "   Id  SepalLengthCm  SepalWidthCm  PetalLengthCm  PetalWidthCm      Species\n",
       "0   1            5.1           3.5            1.4           0.2  Iris-setosa\n",
       "1   2            4.9           3.0            1.4           0.2  Iris-setosa\n",
       "2   3            4.7           3.2            1.3           0.2  Iris-setosa\n",
       "3   4            4.6           3.1            1.5           0.2  Iris-setosa\n",
       "4   5            5.0           3.6            1.4           0.2  Iris-setosa"
      ]
     },
     "execution_count": 16,
     "metadata": {},
     "output_type": "execute_result"
    }
   ],
   "source": [
    "# Load data\n",
    "\n",
    "df = pd.read_csv(\"../../data/Iris.csv\")\n",
    "df.head()"
   ]
  },
  {
   "cell_type": "code",
   "execution_count": 17,
   "id": "acc3684a",
   "metadata": {},
   "outputs": [],
   "source": [
    "# Drop Id\n",
    "\n",
    "df = df.drop(columns=[\"Id\"])"
   ]
  },
  {
   "cell_type": "code",
   "execution_count": 153,
   "id": "22e1182b",
   "metadata": {},
   "outputs": [
    {
     "data": {
      "text/plain": [
       "(array([[5.1, 3.5, 1.4, 0.2],\n",
       "        [4.9, 3. , 1.4, 0.2],\n",
       "        [4.7, 3.2, 1.3, 0.2],\n",
       "        [4.6, 3.1, 1.5, 0.2],\n",
       "        [5. , 3.6, 1.4, 0.2]]),\n",
       " array([0, 0, 0, 0, 0], dtype=int64),\n",
       " array(['Iris-setosa', 'Iris-versicolor', 'Iris-virginica'], dtype=object))"
      ]
     },
     "execution_count": 153,
     "metadata": {},
     "output_type": "execute_result"
    }
   ],
   "source": [
    "# Seperate features and labels\n",
    "\n",
    "features = df.drop(columns=[\"Species\"]).values\n",
    "labels = df[\"Species\"].unique()\n",
    "labels_encoded = np.argmax(pd.get_dummies(df[\"Species\"]).astype(int).values, axis=1)\n",
    "\n",
    "features[:5], labels_encoded[:5], labels"
   ]
  },
  {
   "cell_type": "code",
   "execution_count": 154,
   "id": "ec9f91b5",
   "metadata": {},
   "outputs": [],
   "source": [
    "# Train and test splits\n",
    "\n",
    "X_train, X_test, y_train, y_test = train_test_split(features, labels_encoded, test_size=0.2)"
   ]
  },
  {
   "cell_type": "code",
   "execution_count": 155,
   "id": "e0fb756b",
   "metadata": {},
   "outputs": [
    {
     "name": "stdout",
     "output_type": "stream",
     "text": [
      "Training dataset size: 120\n",
      "Test dataset size: 30\n"
     ]
    }
   ],
   "source": [
    "print(f'Training dataset size: {len(X_train)}')\n",
    "print(f'Test dataset size: {len(X_test)}')"
   ]
  },
  {
   "cell_type": "markdown",
   "id": "8fcd3c03",
   "metadata": {},
   "source": [
    "# Model"
   ]
  },
  {
   "cell_type": "code",
   "execution_count": 72,
   "id": "7e789878",
   "metadata": {},
   "outputs": [],
   "source": [
    "# This works on lists of points, not single points.\n",
    "def euclidean_distance(v1, v2):\n",
    "    return np.sqrt(np.sum((v1 - v2) ** 2, axis=1))"
   ]
  },
  {
   "cell_type": "code",
   "execution_count": null,
   "id": "ba9ac584",
   "metadata": {},
   "outputs": [],
   "source": [
    "# banger implementation btw\n",
    "def knn(k, X_train, y_train, target):\n",
    "    batch_size, n_features = X_train.shape\n",
    "    n_classes = len(labels)\n",
    "\n",
    "    target = target.reshape((1, n_features))\n",
    "    target_mat = np.repeat(target, batch_size, axis=0) # Repeat target on 0th axis to match the shapes\n",
    "    dist = euclidean_distance(X_train, target_mat) # Calculate euclidean distances\n",
    "    indicies = np.argsort(dist)[:k] # k nearest neighbours\n",
    "    pred_classes = y_train[indicies]\n",
    "    pred = np.argmax(np.bincount(pred_classes, minlength=n_classes))\n",
    "    return pred"
   ]
  },
  {
   "cell_type": "code",
   "execution_count": 257,
   "id": "01cfef49",
   "metadata": {},
   "outputs": [
    {
     "name": "stdout",
     "output_type": "stream",
     "text": [
      "k: 1 | Accuracy: 36.67%\n",
      "k: 5 | Accuracy: 36.67%\n",
      "k: 9 | Accuracy: 36.67%\n",
      "k: 13 | Accuracy: 36.67%\n",
      "k: 17 | Accuracy: 36.67%\n",
      "k: 21 | Accuracy: 36.67%\n",
      "k: 25 | Accuracy: 36.67%\n",
      "k: 29 | Accuracy: 36.67%\n",
      "k: 33 | Accuracy: 36.67%\n",
      "k: 37 | Accuracy: 36.67%\n",
      "k: 41 | Accuracy: 36.67%\n",
      "k: 45 | Accuracy: 36.67%\n",
      "k: 49 | Accuracy: 36.67%\n",
      "k: 53 | Accuracy: 36.67%\n",
      "k: 57 | Accuracy: 36.67%\n",
      "k: 61 | Accuracy: 36.67%\n",
      "k: 65 | Accuracy: 36.67%\n",
      "k: 69 | Accuracy: 36.67%\n",
      "k: 73 | Accuracy: 36.67%\n",
      "k: 77 | Accuracy: 36.67%\n",
      "k: 81 | Accuracy: 36.67%\n",
      "k: 85 | Accuracy: 36.67%\n",
      "k: 89 | Accuracy: 36.67%\n",
      "k: 93 | Accuracy: 36.67%\n",
      "k: 97 | Accuracy: 36.67%\n"
     ]
    }
   ],
   "source": [
    "for k in range(1, 100, features.shape[1]):\n",
    "    y_preds = [] \n",
    "    for i in range(len(X_test)):\n",
    "        y_preds.append(knn(k, X_train, y_train, X_test[i]))\n",
    "    \n",
    "    accuracy = np.sum(np.array(y_preds) == y_test) / len(y_test)\n",
    "\n",
    "    print(f\"k: {k} | Accuracy: {accuracy*100:.2f}%\")"
   ]
  },
  {
   "cell_type": "markdown",
   "id": "843614fc",
   "metadata": {},
   "source": [
    "# Conclusion"
   ]
  },
  {
   "cell_type": "markdown",
   "id": "21fbc73c",
   "metadata": {},
   "source": [
    "K-Nearest-Neighbors algorithm fails in Iris classification, achieving up to ony 36.67% accuracy. Every possible k value yields the same result. This is probably because the structure of the dataset; Iris-setosa can be easily distinguished by the other two, and the kNN algorithm guesses correctly about ~1/3 of the time."
   ]
  },
  {
   "cell_type": "markdown",
   "id": "cd83a19d",
   "metadata": {},
   "source": [
    "Metrics:\n",
    "- Highest accuracy achieved on test dataset: 36.67%"
   ]
  }
 ],
 "metadata": {
  "kernelspec": {
   "display_name": "Python 3",
   "language": "python",
   "name": "python3"
  },
  "language_info": {
   "codemirror_mode": {
    "name": "ipython",
    "version": 3
   },
   "file_extension": ".py",
   "mimetype": "text/x-python",
   "name": "python",
   "nbconvert_exporter": "python",
   "pygments_lexer": "ipython3",
   "version": "3.10.6"
  }
 },
 "nbformat": 4,
 "nbformat_minor": 5
}
