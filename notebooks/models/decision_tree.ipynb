{
 "cells": [
  {
   "cell_type": "markdown",
   "id": "62588b9a",
   "metadata": {},
   "source": [
    "# Introduction\n",
    "\n",
    "A basic decision tree."
   ]
  },
  {
   "cell_type": "markdown",
   "id": "a1c7c290",
   "metadata": {},
   "source": [
    "# Setup"
   ]
  },
  {
   "cell_type": "code",
   "execution_count": 1,
   "id": "d97d4d1d",
   "metadata": {},
   "outputs": [],
   "source": [
    "import numpy as np\n",
    "import pandas as pd\n",
    "import matplotlib.pyplot as plt\n",
    "\n",
    "from sklearn.model_selection import train_test_split"
   ]
  },
  {
   "cell_type": "code",
   "execution_count": 2,
   "id": "36bf4aed",
   "metadata": {},
   "outputs": [
    {
     "data": {
      "text/html": [
       "<div>\n",
       "<style scoped>\n",
       "    .dataframe tbody tr th:only-of-type {\n",
       "        vertical-align: middle;\n",
       "    }\n",
       "\n",
       "    .dataframe tbody tr th {\n",
       "        vertical-align: top;\n",
       "    }\n",
       "\n",
       "    .dataframe thead th {\n",
       "        text-align: right;\n",
       "    }\n",
       "</style>\n",
       "<table border=\"1\" class=\"dataframe\">\n",
       "  <thead>\n",
       "    <tr style=\"text-align: right;\">\n",
       "      <th></th>\n",
       "      <th>Id</th>\n",
       "      <th>SepalLengthCm</th>\n",
       "      <th>SepalWidthCm</th>\n",
       "      <th>PetalLengthCm</th>\n",
       "      <th>PetalWidthCm</th>\n",
       "      <th>Species</th>\n",
       "    </tr>\n",
       "  </thead>\n",
       "  <tbody>\n",
       "    <tr>\n",
       "      <th>0</th>\n",
       "      <td>1</td>\n",
       "      <td>5.1</td>\n",
       "      <td>3.5</td>\n",
       "      <td>1.4</td>\n",
       "      <td>0.2</td>\n",
       "      <td>Iris-setosa</td>\n",
       "    </tr>\n",
       "    <tr>\n",
       "      <th>1</th>\n",
       "      <td>2</td>\n",
       "      <td>4.9</td>\n",
       "      <td>3.0</td>\n",
       "      <td>1.4</td>\n",
       "      <td>0.2</td>\n",
       "      <td>Iris-setosa</td>\n",
       "    </tr>\n",
       "    <tr>\n",
       "      <th>2</th>\n",
       "      <td>3</td>\n",
       "      <td>4.7</td>\n",
       "      <td>3.2</td>\n",
       "      <td>1.3</td>\n",
       "      <td>0.2</td>\n",
       "      <td>Iris-setosa</td>\n",
       "    </tr>\n",
       "    <tr>\n",
       "      <th>3</th>\n",
       "      <td>4</td>\n",
       "      <td>4.6</td>\n",
       "      <td>3.1</td>\n",
       "      <td>1.5</td>\n",
       "      <td>0.2</td>\n",
       "      <td>Iris-setosa</td>\n",
       "    </tr>\n",
       "    <tr>\n",
       "      <th>4</th>\n",
       "      <td>5</td>\n",
       "      <td>5.0</td>\n",
       "      <td>3.6</td>\n",
       "      <td>1.4</td>\n",
       "      <td>0.2</td>\n",
       "      <td>Iris-setosa</td>\n",
       "    </tr>\n",
       "  </tbody>\n",
       "</table>\n",
       "</div>"
      ],
      "text/plain": [
       "   Id  SepalLengthCm  SepalWidthCm  PetalLengthCm  PetalWidthCm      Species\n",
       "0   1            5.1           3.5            1.4           0.2  Iris-setosa\n",
       "1   2            4.9           3.0            1.4           0.2  Iris-setosa\n",
       "2   3            4.7           3.2            1.3           0.2  Iris-setosa\n",
       "3   4            4.6           3.1            1.5           0.2  Iris-setosa\n",
       "4   5            5.0           3.6            1.4           0.2  Iris-setosa"
      ]
     },
     "execution_count": 2,
     "metadata": {},
     "output_type": "execute_result"
    }
   ],
   "source": [
    "# Load data\n",
    "\n",
    "df = pd.read_csv(\"../../data/Iris.csv\")\n",
    "df.head()"
   ]
  },
  {
   "cell_type": "code",
   "execution_count": 3,
   "id": "e686d843",
   "metadata": {},
   "outputs": [],
   "source": [
    "# Drop Id\n",
    "\n",
    "df = df.drop(columns=[\"Id\"])"
   ]
  },
  {
   "cell_type": "code",
   "execution_count": 54,
   "id": "67e8278f",
   "metadata": {},
   "outputs": [
    {
     "data": {
      "text/plain": [
       "(array([[5.1, 3.5, 1.4, 0.2],\n",
       "        [4.9, 3. , 1.4, 0.2],\n",
       "        [4.7, 3.2, 1.3, 0.2],\n",
       "        [4.6, 3.1, 1.5, 0.2],\n",
       "        [5. , 3.6, 1.4, 0.2]]),\n",
       " array([0, 0, 0, 0, 0], dtype=int64),\n",
       " array(['Iris-setosa', 'Iris-versicolor', 'Iris-virginica'], dtype=object))"
      ]
     },
     "execution_count": 54,
     "metadata": {},
     "output_type": "execute_result"
    }
   ],
   "source": [
    "# Seperate features and labels\n",
    "\n",
    "features = df.drop(columns=[\"Species\"]).values\n",
    "labels = df[\"Species\"].unique()\n",
    "labels_encoded = np.argmax(pd.get_dummies(df[\"Species\"]).astype(int).values, axis=1)\n",
    "\n",
    "features[:5], labels_encoded[:5], labels"
   ]
  },
  {
   "cell_type": "code",
   "execution_count": 55,
   "id": "caa6c527",
   "metadata": {},
   "outputs": [],
   "source": [
    "# Train and test splits\n",
    "\n",
    "X_train, X_test, y_train, y_test = train_test_split(features, labels_encoded, test_size=0.2)"
   ]
  },
  {
   "cell_type": "code",
   "execution_count": 56,
   "id": "80a71609",
   "metadata": {},
   "outputs": [
    {
     "name": "stdout",
     "output_type": "stream",
     "text": [
      "Training dataset size: 120\n",
      "Test dataset size: 30\n"
     ]
    }
   ],
   "source": [
    "print(f'Training dataset size: {len(X_train)}')\n",
    "print(f'Test dataset size: {len(X_test)}')"
   ]
  },
  {
   "cell_type": "markdown",
   "id": "d7903ae4",
   "metadata": {},
   "source": [
    "# Model"
   ]
  },
  {
   "cell_type": "code",
   "execution_count": 46,
   "id": "23166712",
   "metadata": {},
   "outputs": [],
   "source": [
    "class Node():\n",
    "    def __init__(self, feature_index=None, threshold=None, left=None, right=None, value=None):\n",
    "        self.feature_index = feature_index\n",
    "        self.threshold = threshold\n",
    "        self.left = left\n",
    "        self.right = right\n",
    "        self.value = value"
   ]
  },
  {
   "cell_type": "code",
   "execution_count": 15,
   "id": "61874fe7",
   "metadata": {},
   "outputs": [],
   "source": [
    "def gini(y):\n",
    "    classes, counts = np.unique(y, return_counts=True)\n",
    "    probs = counts / counts.sum()\n",
    "    return 1 - np.sum(probs ** 2)"
   ]
  },
  {
   "cell_type": "code",
   "execution_count": null,
   "id": "a7e5acbb",
   "metadata": {},
   "outputs": [],
   "source": [
    "def split_data(X, y, feature_index, threshold):\n",
    "    left_mask = X[:, feature_index] <= threshold\n",
    "    right_mask = X[:, feature_index] > threshold\n",
    "    return X[left_mask], y[left_mask], X[right_mask], y[right_mask]"
   ]
  },
  {
   "cell_type": "code",
   "execution_count": null,
   "id": "70ed68ff",
   "metadata": {},
   "outputs": [],
   "source": [
    "def best_split(X, y):\n",
    "    n_samples, n_features = X.shape\n",
    "    best_gini = float(\"inf\")\n",
    "    best_index = None\n",
    "    best_threshold = None\n",
    "\n",
    "    for feature_index in range(n_features):\n",
    "        thresholds = np.unique(X[:, feature_index])\n",
    "        for threshold in thresholds:\n",
    "            X_left, y_left, X_right, y_right = split_data(X, y, feature_index, threshold)\n",
    "            \n",
    "            if len(y_left) == 0 or len(y_right) == 0:\n",
    "                continue\n",
    "            \n",
    "            gini_left = gini(y_left)\n",
    "            gini_right = gini(y_right)\n",
    "            weighted_gini = (len(y_left) * gini_left + len(y_right) * gini_right) / len(y)\n",
    "\n",
    "            if weighted_gini < best_gini:\n",
    "                best_gini = weighted_gini\n",
    "                best_index = feature_index\n",
    "                best_threshold = threshold\n",
    "\n",
    "    return best_index, best_threshold\n"
   ]
  },
  {
   "cell_type": "code",
   "execution_count": 47,
   "id": "c26f9517",
   "metadata": {},
   "outputs": [],
   "source": [
    "def build_tree(X, y, max_depth=5, min_samples_split=2, depth=0):\n",
    "    n_samples, n_features = X.shape\n",
    "    n_labels = len(np.unique(y))\n",
    "\n",
    "    # Stop criteria\n",
    "    if depth >= max_depth or n_labels <= 1 or n_samples < min_samples_split:\n",
    "        leaf_value = np.bincount(y).argmax() # Most common label\n",
    "        return Node(value=leaf_value)\n",
    "    \n",
    "    feature_index, threshold = best_split(X, y)\n",
    "    if feature_index == None:\n",
    "        leaf_value = np.bincount(y).argmax() # Most common label\n",
    "        return Node(value=leaf_value)\n",
    "    \n",
    "    X_left, y_left, X_right, y_right = split_data(X, y, feature_index, threshold)\n",
    "    left_subtree = build_tree(X_left, y_left, max_depth=max_depth, min_samples_split=min_samples_split, depth=depth+1)\n",
    "    right_subtree = build_tree(X_right, y_right, max_depth=max_depth, min_samples_split=min_samples_split, depth=depth+1)\n",
    "\n",
    "    return Node(feature_index=feature_index, threshold=threshold, left=left_subtree, right=right_subtree)\n"
   ]
  },
  {
   "cell_type": "code",
   "execution_count": 48,
   "id": "f1af79a5",
   "metadata": {},
   "outputs": [],
   "source": [
    "def predict(sample, tree: Node):\n",
    "    # This is a leaf\n",
    "    if tree.value != None:\n",
    "        return tree.value\n",
    "    \n",
    "    if sample[tree.feature_index] <= tree.threshold:\n",
    "        return predict(sample, tree.left)\n",
    "    else:\n",
    "        return predict(sample, tree.right) "
   ]
  },
  {
   "cell_type": "code",
   "execution_count": 49,
   "id": "7719a074",
   "metadata": {},
   "outputs": [],
   "source": [
    "def predict_dataset(X, tree):\n",
    "    return np.array([predict(sample, tree) for sample in X])"
   ]
  },
  {
   "cell_type": "code",
   "execution_count": 67,
   "id": "173ccdc1",
   "metadata": {},
   "outputs": [],
   "source": [
    "def calculate_accuracy(X, y, tree):\n",
    "    return (predict_dataset(X, tree) == y).astype(int).sum() / len(y)"
   ]
  },
  {
   "cell_type": "code",
   "execution_count": 73,
   "id": "1ef4800b",
   "metadata": {},
   "outputs": [
    {
     "name": "stdout",
     "output_type": "stream",
     "text": [
      "Depth: 1 | Train Accuracy: 65.83% | Test Accuracy: 70.00%\n",
      "Depth: 2 | Train Accuracy: 97.50% | Test Accuracy: 90.00%\n",
      "Depth: 3 | Train Accuracy: 99.17% | Test Accuracy: 86.67%\n",
      "Depth: 4 | Train Accuracy: 100.00% | Test Accuracy: 90.00%\n",
      "Depth: 5 | Train Accuracy: 100.00% | Test Accuracy: 90.00%\n",
      "Depth: 6 | Train Accuracy: 100.00% | Test Accuracy: 90.00%\n",
      "Depth: 7 | Train Accuracy: 100.00% | Test Accuracy: 90.00%\n",
      "Depth: 8 | Train Accuracy: 100.00% | Test Accuracy: 90.00%\n",
      "Depth: 9 | Train Accuracy: 100.00% | Test Accuracy: 90.00%\n",
      "Depth: 10 | Train Accuracy: 100.00% | Test Accuracy: 90.00%\n",
      "Depth: 11 | Train Accuracy: 100.00% | Test Accuracy: 90.00%\n",
      "Depth: 12 | Train Accuracy: 100.00% | Test Accuracy: 90.00%\n",
      "Depth: 13 | Train Accuracy: 100.00% | Test Accuracy: 90.00%\n",
      "Depth: 14 | Train Accuracy: 100.00% | Test Accuracy: 90.00%\n",
      "Depth: 15 | Train Accuracy: 100.00% | Test Accuracy: 90.00%\n",
      "Depth: 16 | Train Accuracy: 100.00% | Test Accuracy: 90.00%\n",
      "Depth: 17 | Train Accuracy: 100.00% | Test Accuracy: 90.00%\n",
      "Depth: 18 | Train Accuracy: 100.00% | Test Accuracy: 90.00%\n",
      "Depth: 19 | Train Accuracy: 100.00% | Test Accuracy: 90.00%\n",
      "Depth: 20 | Train Accuracy: 100.00% | Test Accuracy: 90.00%\n",
      "Depth: 21 | Train Accuracy: 100.00% | Test Accuracy: 90.00%\n",
      "Depth: 22 | Train Accuracy: 100.00% | Test Accuracy: 90.00%\n",
      "Depth: 23 | Train Accuracy: 100.00% | Test Accuracy: 90.00%\n",
      "Depth: 24 | Train Accuracy: 100.00% | Test Accuracy: 90.00%\n"
     ]
    }
   ],
   "source": [
    "for i in range(1, 25):\n",
    "    tree = build_tree(X_train, y_train, max_depth=i, min_samples_split=2)\n",
    "    train_acc = calculate_accuracy(X_train, y_train, tree)\n",
    "    test_acc = calculate_accuracy(X_test, y_test, tree)\n",
    "\n",
    "    print(f\"Depth: {i} | Train Accuracy: {train_acc*100:.2f}% | Test Accuracy: {test_acc*100:.2f}%\")"
   ]
  },
  {
   "cell_type": "markdown",
   "id": "c020e6d5",
   "metadata": {},
   "source": [
    "# Conclusion"
   ]
  },
  {
   "cell_type": "markdown",
   "id": "1b408735",
   "metadata": {},
   "source": [
    "The decision tree algorithm works steadily on Iris classification. It can achieve full accuracy on train dataset and 90% accuracy on test dataset with a depth of 4. Increased depth doesn't seem to improve performance."
   ]
  },
  {
   "cell_type": "markdown",
   "id": "abd00eca",
   "metadata": {},
   "source": [
    "Metrics:\n",
    "- Highest accuracy achieved on test dataset: 90%"
   ]
  }
 ],
 "metadata": {
  "kernelspec": {
   "display_name": "Python 3",
   "language": "python",
   "name": "python3"
  },
  "language_info": {
   "codemirror_mode": {
    "name": "ipython",
    "version": 3
   },
   "file_extension": ".py",
   "mimetype": "text/x-python",
   "name": "python",
   "nbconvert_exporter": "python",
   "pygments_lexer": "ipython3",
   "version": "3.10.6"
  }
 },
 "nbformat": 4,
 "nbformat_minor": 5
}
